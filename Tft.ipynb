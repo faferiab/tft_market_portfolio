{
 "cells": [
  {
   "cell_type": "markdown",
   "metadata": {
    "tags": []
   },
   "source": [
    "# Temporal Fusion Transformer para la composición de portafolios"
   ]
  },
  {
   "cell_type": "markdown",
   "metadata": {},
   "source": [
    "Crear un modelo que permita estimar el riesgo y el retorno de un conjunto de acciones de la bolsa, que le brinde al usuario la información para definir la composición de un portafolio.\n",
    "Para ello se entrenará un modelo de aprendizaje profundo que estime los valores de riesgo (varianza en el volumen transado) y retorno (precio diario de cierre) para un periodo de un trimestre, tomando como base el desempeño del índice S&P500 de la Bolsa de New York."
   ]
  },
  {
   "cell_type": "code",
   "execution_count": null,
   "metadata": {
    "id": "bdylKiRllBl3",
    "tags": []
   },
   "outputs": [],
   "source": [
    "#!pip install -q yfinance pytorch_forecasting"
   ]
  },
  {
   "cell_type": "code",
   "execution_count": 124,
   "metadata": {
    "id": "8OX9dIdfmuAw",
    "tags": []
   },
   "outputs": [],
   "source": [
    "#import gc\n",
    "import lightning.pytorch as pl\n",
    "#import logging\n",
    "#import mlflow\n",
    "import matplotlib.pyplot as plt\n",
    "import numpy as np\n",
    "import optuna\n",
    "import pandas as pd\n",
    "import tensorboard as tb \n",
    "import tensorflow as tf \n",
    "import torch\n",
    "#import warnings\n",
    "import yfinance as yf\n",
    "#from datetime import datetime\n",
    "from lightning.pytorch.callbacks import EarlyStopping, LearningRateMonitor\n",
    "from lightning.pytorch.loggers import TensorBoardLogger\n",
    "from pytorch_forecasting import Baseline, TemporalFusionTransformer, \\\n",
    "    TimeSeriesDataSet, GroupNormalizer, EncoderNormalizer, MultiNormalizer, \\\n",
    "    SMAPE, QuantileLoss\n",
    "from pytorch_forecasting.data.encoders import TorchNormalizer\n",
    "from pytorch_forecasting.models.temporal_fusion_transformer.tuning import optimize_hyperparameters\n",
    "from sklearn.preprocessing import StandardScaler"
   ]
  },
  {
   "cell_type": "code",
   "execution_count": 2,
   "metadata": {
    "colab": {
     "base_uri": "https://localhost:8080/"
    },
    "id": "ofvPnmfFnHBx",
    "outputId": "e94d16f2-63d9-45ef-cc01-52ba09e229fe",
    "tags": []
   },
   "outputs": [
    {
     "name": "stderr",
     "output_type": "stream",
     "text": [
      "Global seed set to 30\n"
     ]
    },
    {
     "data": {
      "text/plain": [
       "30"
      ]
     },
     "execution_count": 2,
     "metadata": {},
     "output_type": "execute_result"
    }
   ],
   "source": [
    "tf.io.gfile = tb.compat.tensorflow_stub.io.gfile\n",
    "pl.seed_everything(30)"
   ]
  },
  {
   "cell_type": "markdown",
   "metadata": {
    "jp-MarkdownHeadingCollapsed": true,
    "tags": []
   },
   "source": [
    "## Captura y procesamiento de datos"
   ]
  },
  {
   "cell_type": "markdown",
   "metadata": {
    "tags": []
   },
   "source": [
    "Descarga los datos de Yaho Finance mediante la libreria yfinance, se descargan las 50 acciones con mayor volumen en indice S&P500 de la bolsa de valores de USA para el entrenamiento"
   ]
  },
  {
   "cell_type": "code",
   "execution_count": 19,
   "metadata": {
    "colab": {
     "base_uri": "https://localhost:8080/"
    },
    "id": "e9hHDSPBnRRM",
    "outputId": "dc585ac7-4fa3-4937-df08-e76081268f31",
    "tags": []
   },
   "outputs": [
    {
     "name": "stdout",
     "output_type": "stream",
     "text": [
      "[*********************100%***********************]  50 of 50 completed\n"
     ]
    }
   ],
   "source": [
    "COLUMNS = [\"Close\", \"Open\", \"Volume\"]\n",
    "TICKERS = [\"SPY\"] + [\"AAPL\", \"MSFT\", \"AMZN\", \"NVDA\", \"GOOGL\", \n",
    "                     \"GOOG\", \"META\", \"TSLA\", \"UNH\", \"XOM\", \"JNJ\", \n",
    "                     \"JPM\", \"V\", \"PG\", \"LLY\", \"AVGO\", \"MA\", \"HD\", \n",
    "                     \"MRK\", \"CVX\", \"PEP\", \"ABBV\", \"KO\", \"COST\", \n",
    "                     \"CRM\", \"MCD\", \"PFE\", \"CSCO\", \"WMT\", \"AMD\", \n",
    "                     \"TMO\", \"BAC\", \"ACN\", \"ADBE\", \"ABT\", \"NFLX\", \n",
    "                     \"LIN\", \"CMCSA\", \"ORCL\", \"DIS\", \"TXN\", \"WFC\", \n",
    "                     \"DHR\", \"VZ\", \"NEE\", \"PM\", \"RTX\", \"BMY\", \"NKE\"]\n",
    "data = yf.download(TICKERS, period = \"max\", repair = True)\n",
    "data = data.dropna()"
   ]
  },
  {
   "cell_type": "markdown",
   "metadata": {},
   "source": [
    "Esta funcion procesa:\n",
    "* El precio de cierre de la accion obteniendo el retorno logaritmico para cada dia\n",
    "* El volumen de la accion obteniendo el valor logaritmico de mismo y haciendo una estadarizacion de los valores\n",
    "* El precio de apertura de la accion calculando la razon entre el precio de cierre y apertura"
   ]
  },
  {
   "cell_type": "code",
   "execution_count": 4,
   "metadata": {
    "tags": []
   },
   "outputs": [],
   "source": [
    "def close_volume_open(df: pd.DataFrame):\n",
    "    res = df.copy()\n",
    "    res.Close = np.log(res.Close + 1e-8).diff().fillna(method='bfill')\n",
    "    res.Volume = np.log(res.Volume + 1e-8)\n",
    "    scaler = StandardScaler().fit(res[:int(len(res)*0.7)]['Volume'].to_numpy())\n",
    "    res.Volume = pd.DataFrame(\n",
    "        data=scaler.transform(res['Volume'].to_numpy()),\n",
    "        columns=res.Volume.columns, index=res.index)\n",
    "    res.Open = df.Open / df.Close\n",
    "    return res"
   ]
  },
  {
   "cell_type": "markdown",
   "metadata": {},
   "source": [
    "Esta funcion concatena las distintas columnas de cada accion en las columnas principales definidas"
   ]
  },
  {
   "cell_type": "code",
   "execution_count": 5,
   "metadata": {
    "id": "JfdkwQf9YSxN",
    "tags": []
   },
   "outputs": [],
   "source": [
    "def multiple_ticker(df: pd.DataFrame):\n",
    "  data_ingest = pd.DataFrame(columns=['Date', 'Ticker'])\n",
    "  for column in COLUMNS:\n",
    "    df2 = pd.melt(df[column], value_vars=TICKERS, var_name='Ticker', value_name=column, ignore_index=False).reset_index()\n",
    "    if(data_ingest.empty):\n",
    "      data_ingest = pd.concat( [data_ingest, df2] )\n",
    "    else:\n",
    "      data_ingest = pd.merge(data_ingest, df2, on=[\"Date\", \"Ticker\"])\n",
    "  return data_ingest"
   ]
  },
  {
   "cell_type": "markdown",
   "metadata": {},
   "source": [
    "Luego pre procesamos los datos y obtenemos caracteristicas de las fechas que permitan encontrar patrones periodicos"
   ]
  },
  {
   "cell_type": "code",
   "execution_count": 18,
   "metadata": {
    "colab": {
     "base_uri": "https://localhost:8080/",
     "height": 206
    },
    "id": "dWBVI9pio0DV",
    "outputId": "6b3b20f5-85bf-4711-a384-dce5265f903c",
    "tags": []
   },
   "outputs": [],
   "source": [
    "def procesing_data(df: pd.DataFrame)->pd.DataFrame:\n",
    "    \"\"\"Esta funcion procesa los datos de las acciones y añade caracteristicas \n",
    "    de tiempo (dia del mes, mes de año, dia de la semana, dia del año) para entrenar el modelo \"\"\"\n",
    "    DATE_COLUMNS = ['Date_day', 'Date_month', 'Date_day_week', 'Date_day_year', 'Time_idx']\n",
    "    data_ingest = close_volume_open(df)\n",
    "    data_ingest = multiple_ticker(data_ingest)\n",
    "    data_ingest[DATE_COLUMNS[0]] = data_ingest.Date.dt.day.astype(str)  \n",
    "    data_ingest[DATE_COLUMNS[1]] = data_ingest.Date.dt.month.astype(str)  \n",
    "    data_ingest[DATE_COLUMNS[2]] = data_ingest.Date.dt.day_of_week.astype(str)  \n",
    "    data_ingest[DATE_COLUMNS[3]] = data_ingest.Date.dt.day_of_year.astype(str)  \n",
    "    data_ingest[DATE_COLUMNS[4]] = data_ingest.groupby(\"Ticker\")[\"Date\"].rank(method=\"dense\").astype(int)\n",
    "    data_ingest.sort_values(by=['Date', 'Ticker'], inplace=True, ignore_index=True)\n",
    "    return data_ingest"
   ]
  },
  {
   "cell_type": "code",
   "execution_count": 29,
   "metadata": {
    "tags": []
   },
   "outputs": [],
   "source": [
    "processed_data = procesing_data(data)\n",
    "#processed_data.to_parquet('processed_data.parquet')"
   ]
  },
  {
   "cell_type": "markdown",
   "metadata": {
    "jp-MarkdownHeadingCollapsed": true,
    "tags": []
   },
   "source": [
    "## Modelo TemporalFusionTransformer "
   ]
  },
  {
   "cell_type": "code",
   "execution_count": 38,
   "metadata": {
    "tags": []
   },
   "outputs": [],
   "source": [
    "def split_data(df: pd.DataFrame):\n",
    "    \"\"\"Esta funcion divide el conjunto de datos en 3 subconjuntos \n",
    "    respectivamente, entrenamiento (70%), validacion(20%) y pruebas(10%)\"\"\"\n",
    "    dates_index = df.Date.unique()\n",
    "    size = len(dates_index)\n",
    "    return df[df.Date.isin(dates_index[:int(size*0.7)])], \\\n",
    "    df[df.Date.isin(dates_index[int(size*0.7):int(size*0.9)])], \\\n",
    "    df[df.Date.isin(dates_index[int(size*0.9):])]\n",
    "train_df, val_df, test_df = split_data(processed_data)"
   ]
  },
  {
   "cell_type": "code",
   "execution_count": 21,
   "metadata": {
    "tags": []
   },
   "outputs": [],
   "source": [
    "class TftParams(object):\n",
    "    \"\"\"Esta clase contiene los parametros necesarios del modelo\"\"\"\n",
    "    def __init__(self):\n",
    "        self.BATCH_SIZE = 16\n",
    "        self.NUM_EPOCHS = 120\n",
    "        self.LEARNING_RATE = 0.0016879719644926218\n",
    "        self.PATIENCE = 30\n",
    "        self.DROPOUT = 0.12717796990901462\n",
    "        self.HIDDEN_LAYER_SIZE = 99\n",
    "        self.EMBEDDING_DIMENSION = 79\n",
    "        self.NUM_LSTM_LAYERS = 2\n",
    "        self.NUM_ATTENTION_HEADS = 1\n",
    "        self.QUANTILES = [0.1, 0.5, 0.9]\n",
    "        self.GRADIENT_CLIP_VAL = 0.01002874085767653\n",
    "    \n",
    "        self.ENCODER_LEN_MIN = 252 #1 anio\n",
    "        self.ENCODER_LEN_MAX = 252 #1 anio\n",
    "        self.DECODER_LEN = 63 # 1 trimestre\n",
    "        self.TIME_IDX = 'Time_idx'\n",
    "        self.TARGET = ['Close', 'Volume']\n",
    "        self.GROUP_ID = [\"Ticker\"]\n",
    "        self.STATIC_CATEGORICALS = [\"Ticker\"]\n",
    "        self.TIME_KNOW_CATEGORICALS = ['Date_day', 'Date_month', 'Date_day_week', 'Date_day_year']\n",
    "        self.TIME_KNOW_REALS = ['Time_idx']\n",
    "        self.TIME_UNKNOW_CATEGORICALS = []\n",
    "        self.TIME_UNKNOW_REALS = [\"Close\", \"Open\", \"Volume\"]"
   ]
  },
  {
   "cell_type": "code",
   "execution_count": 118,
   "metadata": {
    "id": "FtSnLh6fKo1g",
    "tags": []
   },
   "outputs": [
    {
     "name": "stderr",
     "output_type": "stream",
     "text": [
      "/opt/conda/lib/python3.10/site-packages/pytorch_forecasting/data/encoders.py:318: UserWarning: Found 2 unknown classes which were set to NaN\n",
      "  warnings.warn(\n"
     ]
    }
   ],
   "source": [
    "def getTimeSeriesDataSet(df: pd.DataFrame, params: TftParams):\n",
    "    normalizer1 = GroupNormalizer(groups=params.GROUP_ID, transformation=None, scale_by_group=True)\n",
    "    normalizer2 = MultiNormalizer([normalizer1, normalizer1]) #method='identity'\n",
    "    return TimeSeriesDataSet(\n",
    "        df,\n",
    "        time_idx=params.TIME_IDX,\n",
    "        target=params.TARGET,\n",
    "        group_ids=params.GROUP_ID, \n",
    "        min_encoder_length=params.ENCODER_LEN_MIN,\n",
    "        max_encoder_length=params.ENCODER_LEN_MAX,\n",
    "        max_prediction_length=params.DECODER_LEN,\n",
    "        \n",
    "        categorical_encoders={params.TIME_KNOW_CATEGORICALS[3]: NaNLabelEncoder(add_nan=True)},\n",
    "        \n",
    "        static_categoricals=params.STATIC_CATEGORICALS,\n",
    "        time_varying_known_categoricals=params.TIME_KNOW_CATEGORICALS,\n",
    "        time_varying_known_reals=params.TIME_KNOW_REALS,\n",
    "        time_varying_unknown_categoricals=params.TIME_UNKNOW_CATEGORICALS,\n",
    "        time_varying_unknown_reals=params.TIME_UNKNOW_REALS,\n",
    "        \n",
    "        target_normalizer= normalizer2 if isinstance(params.TARGET, list) else normalizer1,\n",
    "        lags={'Close': [5, 20]},\n",
    "        add_relative_time_idx=True,\n",
    "        add_target_scales=True,\n",
    "        add_encoder_length=True,\n",
    "    )\n",
    "training = getTimeSeriesDataSet(train_df, TftParams())\n",
    "validation = TimeSeriesDataSet.from_dataset(training, val_df, predict=True, stop_randomization=True)\n",
    "batch_size = TftParams().BATCH_SIZE\n",
    "train_dataloader = training.to_dataloader(train=True, batch_size=batch_size, num_workers=2)\n",
    "val_dataloader = validation.to_dataloader(train=False, batch_size=batch_size, num_workers=2)\n",
    "new_params = TftParams()\n",
    "new_params.ENCODER_LEN_MIN = 180\n",
    "new_params.ENCODER_LEN_MAX = 180\n",
    "testing = getTimeSeriesDataSet(test_df, new_params)\n",
    "test_dataloader = testing.to_dataloader(train=False, batch_size=batch_size, num_workers=2)"
   ]
  },
  {
   "cell_type": "code",
   "execution_count": null,
   "metadata": {
    "id": "K7RXOQlrYAvQ",
    "tags": []
   },
   "outputs": [],
   "source": [
    "if True:\n",
    "    warnings.filterwarnings('ignore')\n",
    "    logging.getLogger(\"lightning.pytorch\").setLevel(logging.ERROR)"
   ]
  },
  {
   "cell_type": "code",
   "execution_count": 74,
   "metadata": {
    "colab": {
     "base_uri": "https://localhost:8080/"
    },
    "id": "7ePOOCZeOABX",
    "outputId": "948f0467-3739-4883-8ea7-1c5bb2216646",
    "tags": []
   },
   "outputs": [
    {
     "name": "stderr",
     "output_type": "stream",
     "text": [
      "GPU available: False, used: False\n",
      "TPU available: False, using: 0 TPU cores\n",
      "IPU available: False, using: 0 IPUs\n",
      "HPU available: False, using: 0 HPUs\n"
     ]
    },
    {
     "name": "stdout",
     "output_type": "stream",
     "text": [
      "Number of parameters in network: 1.11M\n"
     ]
    }
   ],
   "source": [
    "early_stop_callback = EarlyStopping(monitor=\"val_loss\", min_delta=1e-2, patience=TftParams().PATIENCE, verbose=False, mode=\"min\")\n",
    "lr_logger = LearningRateMonitor()  # log the learning rate\n",
    "logger = TensorBoardLogger(\"lightning_logs\")  # logging results to a tensorboard\n",
    "\n",
    "tft = TemporalFusionTransformer.from_dataset(\n",
    "    training,\n",
    "    learning_rate=TftParams().LEARNING_RATE,\n",
    "    lstm_layers=TftParams().NUM_LSTM_LAYERS,\n",
    "    hidden_size=TftParams().HIDDEN_LAYER_SIZE,\n",
    "    attention_head_size=TftParams().NUM_ATTENTION_HEADS,\n",
    "    dropout=TftParams().DROPOUT,\n",
    "    hidden_continuous_size=TftParams().EMBEDDING_DIMENSION,\n",
    "    output_size=[len(TftParams().QUANTILES), len(TftParams().QUANTILES)],\n",
    "    loss=QuantileLoss(quantiles=TftParams().QUANTILES),\n",
    "    log_interval=10,  # uncomment for learning rate finder and otherwise, e.g. to 10 for logging every 10 batches\n",
    "    reduce_on_plateau_patience=4\n",
    ")\n",
    "\n",
    "trainer = pl.Trainer(\n",
    "    max_epochs=TftParams().NUM_EPOCHS,\n",
    "    accelerator=\"cpu\",\n",
    "    enable_model_summary=True,\n",
    "    gradient_clip_val=TftParams().GRADIENT_CLIP_VAL,\n",
    "    #limit_train_batches=10,  # coment in for training, running valiation every 30 batches\n",
    "    #fast_dev_run=True,  # comment in to check that networkor dataset has no serious bugs\n",
    "    callbacks=[lr_logger, early_stop_callback],\n",
    "    logger=logger,\n",
    ")\n",
    "\n",
    "print(f\"Number of parameters in network: {tft.size()/1e6:.2f}M\")"
   ]
  },
  {
   "cell_type": "markdown",
   "metadata": {
    "jp-MarkdownHeadingCollapsed": true,
    "tags": []
   },
   "source": [
    "## Entrenamiento y optimizacion"
   ]
  },
  {
   "cell_type": "markdown",
   "metadata": {},
   "source": [
    "Se puede usar OPTUNA para la busqueda de hiperparametros del modelo"
   ]
  },
  {
   "cell_type": "code",
   "execution_count": 80,
   "metadata": {
    "tags": []
   },
   "outputs": [
    {
     "name": "stderr",
     "output_type": "stream",
     "text": [
      "\u001b[32m[I 2023-06-07 00:30:14,155]\u001b[0m A new study created in memory with name: tft_study\u001b[0m\n"
     ]
    }
   ],
   "source": [
    "opt = optuna.create_study(direction=\"minimize\", pruner=optuna.pruners.SuccessiveHalvingPruner(), study_name='tft_study')"
   ]
  },
  {
   "cell_type": "code",
   "execution_count": null,
   "metadata": {
    "tags": []
   },
   "outputs": [],
   "source": [
    "kwargs = {\"loss\": QuantileLoss(quantiles=TftParams().QUANTILES)}\n",
    "study = optimize_hyperparameters(\n",
    "        train_dataloader,\n",
    "        val_dataloader,\n",
    "        model_path=\"optuna_test\",\n",
    "        n_trials=20,\n",
    "        max_epochs=1,\n",
    "        gradient_clip_val_range=(0.01, 1.0),\n",
    "        hidden_size_range=(8, 128),\n",
    "        hidden_continuous_size_range=(8, 128),\n",
    "        attention_head_size_range=(1, 4),\n",
    "        learning_rate_range=(0.001, 0.1),\n",
    "        dropout_range=(0.1, 0.3),\n",
    "        trainer_kwargs=dict(limit_train_batches=30, #accelerator='gpu', devices=-1,\n",
    "                            callbacks=[]),\n",
    "        reduce_on_plateau_patience=4,\n",
    "        use_learning_rate_finder=False,\n",
    "        study=opt, \n",
    "        timeout=60*60*2, #2 horas\n",
    "        **kwargs\n",
    "    )\n",
    "print('best_trial', study.best_trial.params)"
   ]
  },
  {
   "cell_type": "code",
   "execution_count": null,
   "metadata": {
    "tags": []
   },
   "outputs": [],
   "source": [
    "#mlflow.log_params(TftParams().__dict__)\n",
    "trainer.fit(\n",
    "    tft,\n",
    "    train_dataloaders=train_dataloader,\n",
    "    val_dataloaders=val_dataloader,\n",
    ")"
   ]
  },
  {
   "cell_type": "code",
   "execution_count": null,
   "metadata": {
    "colab": {
     "base_uri": "https://localhost:8080/"
    },
    "id": "sEeGWTb_7a4D",
    "outputId": "537750d9-5884-43ca-b5ef-4821d3b18a8a",
    "tags": []
   },
   "outputs": [],
   "source": [
    "best_model_path = trainer.checkpoint_callback.best_model_path\n",
    "best_tft = TemporalFusionTransformer.load_from_checkpoint(best_model_path)"
   ]
  },
  {
   "cell_type": "markdown",
   "metadata": {
    "jp-MarkdownHeadingCollapsed": true,
    "tags": []
   },
   "source": [
    "## Validacion"
   ]
  },
  {
   "cell_type": "code",
   "execution_count": 96,
   "metadata": {
    "tags": []
   },
   "outputs": [],
   "source": [
    "best_tft = torch.load('best(1).ckpt')"
   ]
  },
  {
   "cell_type": "code",
   "execution_count": 104,
   "metadata": {
    "colab": {
     "base_uri": "https://localhost:8080/"
    },
    "id": "kowRGZ6MQFuZ",
    "outputId": "5e2fb7a9-9349-4c10-8c57-0addf016f35a",
    "tags": []
   },
   "outputs": [
    {
     "name": "stdout",
     "output_type": "stream",
     "text": [
      "Validation median SMAPE loss naive: 1.3802239894866943\n",
      "Validation median SMAPE loss model: 1.531894564628601\n"
     ]
    }
   ],
   "source": [
    "base_model = Baseline()\n",
    "baseline_predictions = base_model.predict(val_dataloader)\n",
    "actuals = torch.cat([\n",
    "    torch.cat([y[0][0] for x, y in iter(val_dataloader)]), \n",
    "    torch.cat([y[0][1] for x, y in iter(val_dataloader)])])\n",
    "predictions = best_tft.predict(val_dataloader, mode=\"prediction\")\n",
    "\n",
    "print(f\"Validation median SMAPE loss naive: {SMAPE().loss(actuals, torch.cat(baseline_predictions)).mean(axis = 1).median().item()}\")\n",
    "print(f\"Validation median SMAPE loss model: {SMAPE().loss(actuals, torch.cat(predictions)).mean(axis = 1).median().item()}\")"
   ]
  },
  {
   "cell_type": "markdown",
   "metadata": {
    "tags": []
   },
   "source": [
    "## Prediccion"
   ]
  },
  {
   "cell_type": "code",
   "execution_count": 240,
   "metadata": {
    "tags": []
   },
   "outputs": [
    {
     "name": "stderr",
     "output_type": "stream",
     "text": [
      "/opt/conda/lib/python3.10/site-packages/lightning/pytorch/trainer/connectors/data_connector.py:430: PossibleUserWarning: The dataloader, predict_dataloader, does not have many workers which may be a bottleneck. Consider increasing the value of the `num_workers` argument` (try 12 which is the number of cpus on this machine) in the `DataLoader` init to improve performance.\n",
      "  rank_zero_warn(\n"
     ]
    }
   ],
   "source": [
    "raw_predictions = best_tft.predict(test_dataloader, mode=\"raw\", return_x=True, return_decoder_lengths=12, num_workers=12)"
   ]
  },
  {
   "cell_type": "code",
   "execution_count": 206,
   "metadata": {
    "tags": []
   },
   "outputs": [
    {
     "name": "stdout",
     "output_type": "stream",
     "text": [
      "{'TARGET': {'Close': 0, 'Volume': 1}, 'STOCK': {'SPY': 0, 'AAPL': 1, 'MSFT': 2, 'AMZN': 3, 'NVDA': 4, 'GOOGL': 5, 'GOOG': 6, 'META': 7, 'TSLA': 8, 'UNH': 9, 'XOM': 10, 'JNJ': 11, 'JPM': 12, 'V': 13, 'PG': 14, 'LLY': 15, 'AVGO': 16, 'MA': 17, 'HD': 18, 'MRK': 19, 'CVX': 20, 'PEP': 21, 'ABBV': 22, 'KO': 23, 'COST': 24, 'CRM': 25, 'MCD': 26, 'PFE': 27, 'CSCO': 28, 'WMT': 29, 'AMD': 30, 'TMO': 31, 'BAC': 32, 'ACN': 33, 'ADBE': 34, 'ABT': 35, 'NFLX': 36, 'LIN': 37, 'CMCSA': 38, 'ORCL': 39, 'DIS': 40, 'TXN': 41, 'WFC': 42, 'DHR': 43, 'VZ': 44, 'NEE': 45, 'PM': 46, 'RTX': 47, 'BMY': 48, 'NKE': 49}, 'DAYS': [0, 1, 2, 3, 4, 5, 6, 7, 8, 9, 10, 11, 12, 13, 14, 15, 16, 17, 18, 19, 20, 21, 22, 23, 24, 25, 26, 27, 28, 29, 30, 31, 32, 33, 34, 35, 36, 37, 38, 39, 40, 41, 42, 43, 44, 45, 46, 47, 48, 49, 50, 51, 52, 53, 54, 55, 56, 57, 58, 59, 60, 61, 62]}\n"
     ]
    }
   ],
   "source": [
    "# class PredictionParams(object):\n",
    "def __init__(self):\n",
    "    self.TARGET = {TftParams().TARGET[x]:x for x in range(len(TftParams().TARGET))}\n",
    "    self.STOCK = {TICKERS[x]:x for x in range(len(TICKERS))}\n",
    "    self.DAYS = [x for x in range(TftParams().DECODER_LEN)]\n",
    "print(PredictionParams().__dict__)"
   ]
  },
  {
   "cell_type": "code",
   "execution_count": 232,
   "metadata": {
    "tags": []
   },
   "outputs": [
    {
     "data": {
      "image/png": "[encoded data removed]",
      "text/plain": [
       "<Figure size 640x480 with 1 Axes>"
      ]
     },
     "metadata": {},
     "output_type": "display_data"
    }
   ],
   "source": [
    "stocks = [\"AAPL\", \"MSFT\", \"AMZN\", \"NVDA\", \"GOOGL\", \"GOOG\", \"META\", \"TSLA\"]\n",
    "stock = stocks[1]\n",
    "feature:['Volume', 'Close'] = 'Volume'\n",
    "prediction = raw_predictions.output.prediction[PredictionParams().TARGET[feature]][PredictionParams().STOCK[stock]].numpy()\n",
    "actual = raw_predictions.x['decoder_target'][PredictionParams().TARGET[feature]][PredictionParams().STOCK[stock]].numpy()\n",
    "\n",
    "def plot_result(actual, prediction):\n",
    "    x = np.arange(0,len(prediction))\n",
    "    q10, q50, q90 = prediction.T\n",
    "    fig, ax = plt.subplots()\n",
    "    ax.fill_between(x, q90, q10, alpha=.5, linewidth=0, facecolor='C0')\n",
    "    ax.plot(x, q50, linewidth=2, label='Prediction')\n",
    "    ax.plot(x, actual, linewidth=2, label='Actual')\n",
    "    ax.legend(loc='upper left')\n",
    "    ax.set_xlabel('num days')\n",
    "    ax.set_ylabel(feature)\n",
    "    plt.show()\n",
    "plot_result(actual,prediction)"
   ]
  },
  {
   "cell_type": "code",
   "execution_count": 203,
   "metadata": {
    "tags": []
   },
   "outputs": [],
   "source": [
    "result = {(x,y):{} for x in PredictionParams().TARGET for y in ['q10','q50','q90']}\n",
    "for stock in stocks:\n",
    "    feature = 'Volume'\n",
    "    q10, q50, q90 = np.std(raw_predictions.output.prediction[PredictionParams().TARGET[feature]][PredictionParams().STOCK[stock]].numpy(), axis=0)\n",
    "    result[(feature, 'q10')][stock] = q10\n",
    "    result[(feature, 'q50')][stock] = q50\n",
    "    result[(feature, 'q90')][stock] = q90\n",
    "    feature = 'Close'\n",
    "    q10, q50, q90 = np.sum(raw_predictions.output.prediction[PredictionParams().TARGET[feature]][PredictionParams().STOCK[stock]].numpy(), axis=0)\n",
    "    result[(feature, 'q10')][stock] = q10\n",
    "    result[(feature, 'q50')][stock] = q50\n",
    "    result[(feature, 'q90')][stock] = q90\n",
    "baseline = {'Volume':{}, 'Close': {}}\n",
    "baseline['Volume']['q90'], baseline['Volume']['q50'], baseline['Volume']['q10'] =\\\n",
    "np.std(raw_predictions.output.prediction[PredictionParams().TARGET['Volume']][PredictionParams().STOCK['SPY']].numpy(), axis=0)\n",
    "baseline['Close']['q10'], baseline['Close']['q50'], baseline['Close']['q90'] =\\\n",
    "np.sum(raw_predictions.output.prediction[PredictionParams().TARGET[feature]][PredictionParams().STOCK[stock]].numpy(), axis=0)\n",
    "result = pd.DataFrame(data=result)"
   ]
  },
  {
   "cell_type": "code",
   "execution_count": 260,
   "metadata": {
    "tags": []
   },
   "outputs": [
    {
     "data": {
      "image/png": "[encoded data removed]",
      "text/plain": [
       "<Figure size 640x480 with 1 Axes>"
      ]
     },
     "metadata": {},
     "output_type": "display_data"
    },
    {
     "data": {
      "image/png": "[encoded data removed]",
      "text/plain": [
       "<Figure size 640x480 with 1 Axes>"
      ]
     },
     "metadata": {},
     "output_type": "display_data"
    }
   ],
   "source": [
    "def plot_result_pronostic(df: pd.DataFrame, feature:str, base: dict):\n",
    "    fig, ax = plt.subplots()\n",
    "    ax.scatter(result.index, df[(feature,'q10')])\n",
    "    ax.scatter(result.index, df[(feature,'q50')])\n",
    "    ax.scatter(result.index, df[(feature,'q90')])\n",
    "    plt.axhline(y = base[feature]['q10'], color = 'r', linestyle = '-')\n",
    "    plt.axhline(y = base[feature]['q50'], color = 'b', linestyle = '-')\n",
    "    plt.axhline(y = base[feature]['q90'], color = 'g', linestyle = '-')\n",
    "    ax.set_xlabel('stock')\n",
    "    ax.set_ylabel(feature)\n",
    "    plt.show()\n",
    "plot_result_pronostic(result, 'Volume', baseline)\n",
    "plot_result_pronostic(result, 'Close', baseline)"
   ]
  }
 ],
 "metadata": {
  "colab": {
   "provenance": []
  },
  "kernelspec": {
   "display_name": "Python 3 (ipykernel)",
   "language": "python",
   "name": "python3"
  },
  "language_info": {
   "codemirror_mode": {
    "name": "ipython",
    "version": 3
   },
   "file_extension": ".py",
   "mimetype": "text/x-python",
   "name": "python",
   "nbconvert_exporter": "python",
   "pygments_lexer": "ipython3",
   "version": "3.10.11"
  }
 },
 "nbformat": 4,
 "nbformat_minor": 4
}
